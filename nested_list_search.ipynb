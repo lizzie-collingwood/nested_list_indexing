{
 "cells": [
  {
   "cell_type": "code",
   "execution_count": 2,
   "metadata": {},
   "outputs": [],
   "source": [
    "### determines whether the string is contained within the nested list\n",
    "def nested_list_contains(thelist, string):\n",
    "    for thing in thelist:\n",
    "        if type(thing) is list:\n",
    "            if nested_list_contains(thing, string):\n",
    "                return True\n",
    "        if thing == string:\n",
    "            return True\n",
    "    return False\n",
    "\n",
    "### searches nested list until first instance of string and returns index --- note: if there are multiple appearences, it will ignore all but one\n",
    "def nested_list_search(thelist, string, _indices=[]):\n",
    "    for thing in thelist:\n",
    "        temp_indices = _indices.copy()\n",
    "        if type(thing) is list:\n",
    "#             print(thing, ':::', nested_list_contains(thing, string))\n",
    "            if nested_list_contains(thing, string):\n",
    "                temp_indices.append(thelist.index(thing))\n",
    "                nested_list_search(thing, string, temp_indices)\n",
    "        elif thing == string:\n",
    "            temp_indices.append(thelist.index(thing))\n",
    "            global index\n",
    "            index = temp_indices\n",
    "            break\n",
    "    return index"
   ]
  },
  {
   "cell_type": "code",
   "execution_count": 4,
   "metadata": {},
   "outputs": [
    {
     "name": "stdout",
     "output_type": "stream",
     "text": [
      "[2, 2, 2, 0, 1, 0, 0, 0]\n"
     ]
    }
   ],
   "source": [
    "### example\n",
    "thelist = ['hello', ['xx', 'yy'], ['rr', 'vv', ['aa', 'b', [['c', [[['hi']]]], 'fff', 'ggg']]], [['p', 'q']]]\n",
    "print(nested_list_search(thelist, 'hi'))"
   ]
  }
 ],
 "metadata": {
  "kernelspec": {
   "display_name": "Python 3",
   "language": "python",
   "name": "python3"
  },
  "language_info": {
   "codemirror_mode": {
    "name": "ipython",
    "version": 3
   },
   "file_extension": ".py",
   "mimetype": "text/x-python",
   "name": "python",
   "nbconvert_exporter": "python",
   "pygments_lexer": "ipython3",
   "version": "3.8.3"
  }
 },
 "nbformat": 4,
 "nbformat_minor": 4
}
