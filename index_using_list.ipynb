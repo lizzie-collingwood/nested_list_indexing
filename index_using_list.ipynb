{
 "cells": [
  {
   "cell_type": "code",
   "execution_count": 2,
   "metadata": {},
   "outputs": [],
   "source": [
    "### using output lists of indexing numbers to find the string\n",
    "def index_using_list(nestedlist, indexinglist):\n",
    "    global outputstring\n",
    "    if type(indexinglist) is list:\n",
    "        if len(indexinglist)==1:\n",
    "            index_using_list(nestedlist, indexinglist[0])\n",
    "        else:\n",
    "            index_using_list(nestedlist[indexinglist[0]], indexinglist[1:])\n",
    "    else:\n",
    "        outputstring = nestedlist[indexinglist]\n",
    "    return outputstring"
   ]
  },
  {
   "cell_type": "code",
   "execution_count": 8,
   "metadata": {},
   "outputs": [
    {
     "data": {
      "text/plain": [
       "'bonjour'"
      ]
     },
     "execution_count": 8,
     "metadata": {},
     "output_type": "execute_result"
    }
   ],
   "source": [
    "### example\n",
    "thelist = ['hello', ['xx', 'yy'], ['rr', 'vv', ['aa', 'b', [['bonjour', [[['hi']]]], 'fff', 'ggg']]], [['p', 'q']]]\n",
    "index_using_list(thelist, [[2, 2, 2, 0, 0]])"
   ]
  }
 ],
 "metadata": {
  "kernelspec": {
   "display_name": "Python 3",
   "language": "python",
   "name": "python3"
  },
  "language_info": {
   "codemirror_mode": {
    "name": "ipython",
    "version": 3
   },
   "file_extension": ".py",
   "mimetype": "text/x-python",
   "name": "python",
   "nbconvert_exporter": "python",
   "pygments_lexer": "ipython3",
   "version": "3.8.3"
  }
 },
 "nbformat": 4,
 "nbformat_minor": 4
}
