{
 "cells": [
  {
   "cell_type": "code",
   "execution_count": 2,
   "metadata": {},
   "outputs": [],
   "source": [
    "### determines whether the string is contained within the nested list, even if within a string\n",
    "def nested_list_rough_contains(thelist, string):\n",
    "    for thing in thelist:\n",
    "        if type(thing) is list:\n",
    "            if nested_list_rough_contains(thing, string):\n",
    "                return True\n",
    "        if thing.__contains__(string):\n",
    "            return True\n",
    "    return False\n",
    "\n",
    "### rough searches nested list and finds all cases of string being contained in string\n",
    "def nested_list_rough_search(thelist, string, _indices=[]):\n",
    "    global index_list\n",
    "    global fullstrings\n",
    "    if len(_indices)==0:\n",
    "        index_list = []\n",
    "        fullstrings = []\n",
    "    for thing in thelist:\n",
    "        temp_indices = _indices.copy()\n",
    "        if type(thing) is list:\n",
    "#             print(thing, ':::', nested_list_rough_contains(thing, string))\n",
    "            if nested_list_rough_contains(thing, string):\n",
    "                temp_indices.append(thelist.index(thing))\n",
    "                nested_list_rough_search(thing, string, temp_indices)\n",
    "        elif thing.__contains__(string):\n",
    "            temp_indices.append(thelist.index(thing))\n",
    "            index_list.append(temp_indices)\n",
    "            fullstrings.append(thing)\n",
    "    return (index_list, fullstrings)"
   ]
  },
  {
   "cell_type": "code",
   "execution_count": 3,
   "metadata": {},
   "outputs": [
    {
     "data": {
      "text/plain": [
       "([[0], [1], [2], [4, 2, 2, 0, 1, 0, 0, 0]], ['hello', 'hole', 'hey', 'hi'])"
      ]
     },
     "execution_count": 3,
     "metadata": {},
     "output_type": "execute_result"
    }
   ],
   "source": [
    "thelist = ['hello', 'hole', 'hey', ['xx', 'yy'], ['rr', 'vv', ['aa', 'b', [['c', [[['hi']]]], 'fff', 'ggg']]], [['p', 'q']]]\n",
    "nested_list_rough_search(thelist, 'h')"
   ]
  }
 ],
 "metadata": {
  "kernelspec": {
   "display_name": "Python 3",
   "language": "python",
   "name": "python3"
  },
  "language_info": {
   "codemirror_mode": {
    "name": "ipython",
    "version": 3
   },
   "file_extension": ".py",
   "mimetype": "text/x-python",
   "name": "python",
   "nbconvert_exporter": "python",
   "pygments_lexer": "ipython3",
   "version": "3.8.3"
  }
 },
 "nbformat": 4,
 "nbformat_minor": 4
}
